{
 "cells": [
  {
   "cell_type": "markdown",
   "metadata": {},
   "source": [
    "# How to solve a linear regression problem\n",
    "\n",
    "\n",
    "In this example, we will learn some of the basic steps in the machine learning life cycle, such as exploratory data analysis, data preparation, model building (in this case, creating a linear regression model and training it), and finally, model evaluation with some performance metrics. There are other steps that are important in the machine learning life cycle as well, but for the purposes of this example, we are going to focus on the mentioned ones.\n",
    "\n",
    "<!-- ![MLLifeCycle.png](./assets/MLLifeCycle.1.jpeg) -->\n",
    "<img src=\"./assets/MLLifeCycle.1.jpeg\" width=\"700\" > \n",
    "\n",
    "For this example ⚫️ **our <u>objective</u> is to obtain a model that is capable of predicting the price of a home given its characteristics** ⚫️. For this purpose we will use the data set corresponding to the characterization of houses and their price. \n",
    "\n",
    "Based in the ML cycle we are going to do the following processes:\n",
    "\n",
    "1. [Import the necessary libraries.](#1.-Import-required-libraries)\n",
    "2. [Load a data set.](#2.-Load-a-data-set)\n",
    "3. [Data Analysis.](#3.-Data-Analysis)\n",
    "4. [Prepare data for modeling.](#4.-Prepare-data-for-modeling)\n",
    "5. [Train a linear regression model.](#5.-Train-a-linear-regression-model)\n",
    "6. [Evaluate the resulting model.](#6.-Evaluate-the-resulting-model)\n",
    " - [Conclusion](#Conclusion)"
   ]
  },
  {
   "cell_type": "markdown",
   "metadata": {},
   "source": [
    "## 1. Import required libraries\n",
    "\n",
    "We will import the Pandas library and, in addition, we will use the `scikit-learn` library. This library contains multiple functions and objects for all stages in a machine learning process. In particular, we will use:\n",
    "\n",
    "* Training:\n",
    "    * `train_test_split`: function for separating the data set into training and testing subsets.\n",
    "* Modeling: \n",
    "    * `LinearRegression`: object to create and train the linear regression model.\n",
    "* Evaluation: \n",
    "    * `mean_squared_error`: function that returns the mean squared error.\n",
    "    * `mean_absolute_error`: function that returns the mean absolute error.\n",
    "    * `r2_score`: function that returns the score R<sup>2</sup>."
   ]
  },
  {
   "cell_type": "code",
   "execution_count": 1,
   "metadata": {
    "scrolled": true
   },
   "outputs": [],
   "source": [
    "import pandas as pd\n",
    "from scipy.stats import norm\n",
    "import numpy as np\n",
    "import matplotlib.pyplot as plt\n",
    "from sklearn.model_selection import train_test_split\n",
    "from sklearn.linear_model import LinearRegression\n",
    "from sklearn.metrics import mean_squared_error, mean_absolute_error, r2_score"
   ]
  },
  {
   "cell_type": "markdown",
   "metadata": {},
   "source": [
    "## 2. Load a data set\n",
    "\n",
    "For this example we are going to use a reduced version of the following dataset [House prices dataset](https://www.kaggle.com/datasets/soylevbeytullah/house-prices-dataset) from [https://www.kaggle.com](https://www.kaggle.com):\n",
    "\n",
    "<a href=\"https://www.kaggle.com/datasets/soylevbeytullah/house-prices-dataset\" ><img src=\"https://storage.googleapis.com/kaggle-datasets-images/5070513/8497330/ca7e0c022d76baa143e98d6a6ea535e6/dataset-cover.jpg?t=2024-05-23-14-49-47\" width=\"200\" ></a>\n",
    "\n",
    "We will load data using the Pandas [`read_csv()`](https://pandas.pydata.org/docs/reference/api/pandas.read_csv.html) function. In this case we will add a new parameter to specify the file separator which, for our data set, is a comma:"
   ]
  },
  {
   "cell_type": "code",
   "execution_count": 2,
   "metadata": {
    "scrolled": true
   },
   "outputs": [],
   "source": [
    "df_raw = pd.read_csv('data/house_data.csv', sep=',')\n"
   ]
  },
  {
   "cell_type": "markdown",
   "metadata": {},
   "source": [
    "We will see the size of the data using `shape`:"
   ]
  },
  {
   "cell_type": "code",
   "execution_count": 3,
   "metadata": {
    "scrolled": true
   },
   "outputs": [
    {
     "data": {
      "text/plain": [
       "(21615, 11)"
      ]
     },
     "execution_count": 3,
     "metadata": {},
     "output_type": "execute_result"
    }
   ],
   "source": [
    "df_raw.shape"
   ]
  },
  {
   "cell_type": "markdown",
   "metadata": {},
   "source": [
    "And the first data of the set using `head()`:"
   ]
  },
  {
   "cell_type": "code",
   "execution_count": 4,
   "metadata": {
    "scrolled": true
   },
   "outputs": [
    {
     "data": {
      "text/html": [
       "<div>\n",
       "<style scoped>\n",
       "    .dataframe tbody tr th:only-of-type {\n",
       "        vertical-align: middle;\n",
       "    }\n",
       "\n",
       "    .dataframe tbody tr th {\n",
       "        vertical-align: top;\n",
       "    }\n",
       "\n",
       "    .dataframe thead th {\n",
       "        text-align: right;\n",
       "    }\n",
       "</style>\n",
       "<table border=\"1\" class=\"dataframe\">\n",
       "  <thead>\n",
       "    <tr style=\"text-align: right;\">\n",
       "      <th></th>\n",
       "      <th>id</th>\n",
       "      <th>date</th>\n",
       "      <th>price</th>\n",
       "      <th>bedrooms</th>\n",
       "      <th>bathrooms</th>\n",
       "      <th>sqft_living</th>\n",
       "      <th>sqft_lot</th>\n",
       "      <th>floors</th>\n",
       "      <th>condition</th>\n",
       "      <th>yr_built</th>\n",
       "      <th>zipcode</th>\n",
       "    </tr>\n",
       "  </thead>\n",
       "  <tbody>\n",
       "    <tr>\n",
       "      <th>0</th>\n",
       "      <td>7129300520</td>\n",
       "      <td>2014</td>\n",
       "      <td>221900.0</td>\n",
       "      <td>3.0</td>\n",
       "      <td>1.00</td>\n",
       "      <td>1180.0</td>\n",
       "      <td>5650.0</td>\n",
       "      <td>1.0</td>\n",
       "      <td>3.0</td>\n",
       "      <td>1955</td>\n",
       "      <td>98178.0</td>\n",
       "    </tr>\n",
       "    <tr>\n",
       "      <th>1</th>\n",
       "      <td>6414100192</td>\n",
       "      <td>2014</td>\n",
       "      <td>538000.0</td>\n",
       "      <td>3.0</td>\n",
       "      <td>2.25</td>\n",
       "      <td>2570.0</td>\n",
       "      <td>7242.0</td>\n",
       "      <td>2.0</td>\n",
       "      <td>3.0</td>\n",
       "      <td>1951</td>\n",
       "      <td>98125.0</td>\n",
       "    </tr>\n",
       "    <tr>\n",
       "      <th>2</th>\n",
       "      <td>5631500400</td>\n",
       "      <td>2015</td>\n",
       "      <td>180000.0</td>\n",
       "      <td>2.0</td>\n",
       "      <td>1.00</td>\n",
       "      <td>770.0</td>\n",
       "      <td>10000.0</td>\n",
       "      <td>1.0</td>\n",
       "      <td>3.0</td>\n",
       "      <td>1933</td>\n",
       "      <td>98028.0</td>\n",
       "    </tr>\n",
       "    <tr>\n",
       "      <th>3</th>\n",
       "      <td>2487200875</td>\n",
       "      <td>2014</td>\n",
       "      <td>604000.0</td>\n",
       "      <td>4.0</td>\n",
       "      <td>3.00</td>\n",
       "      <td>1960.0</td>\n",
       "      <td>NaN</td>\n",
       "      <td>1.0</td>\n",
       "      <td>5.0</td>\n",
       "      <td>1965</td>\n",
       "      <td>98136.0</td>\n",
       "    </tr>\n",
       "    <tr>\n",
       "      <th>4</th>\n",
       "      <td>1954400510</td>\n",
       "      <td>2015</td>\n",
       "      <td>510000.0</td>\n",
       "      <td>3.0</td>\n",
       "      <td>2.00</td>\n",
       "      <td>1680.0</td>\n",
       "      <td>8080.0</td>\n",
       "      <td>1.0</td>\n",
       "      <td>3.0</td>\n",
       "      <td>1987</td>\n",
       "      <td>98074.0</td>\n",
       "    </tr>\n",
       "  </tbody>\n",
       "</table>\n",
       "</div>"
      ],
      "text/plain": [
       "           id  date     price  bedrooms  bathrooms  sqft_living  sqft_lot  \\\n",
       "0  7129300520  2014  221900.0       3.0       1.00       1180.0    5650.0   \n",
       "1  6414100192  2014  538000.0       3.0       2.25       2570.0    7242.0   \n",
       "2  5631500400  2015  180000.0       2.0       1.00        770.0   10000.0   \n",
       "3  2487200875  2014  604000.0       4.0       3.00       1960.0       NaN   \n",
       "4  1954400510  2015  510000.0       3.0       2.00       1680.0    8080.0   \n",
       "\n",
       "   floors  condition  yr_built  zipcode  \n",
       "0     1.0        3.0      1955  98178.0  \n",
       "1     2.0        3.0      1951  98125.0  \n",
       "2     1.0        3.0      1933  98028.0  \n",
       "3     1.0        5.0      1965  98136.0  \n",
       "4     1.0        3.0      1987  98074.0  "
      ]
     },
     "execution_count": 4,
     "metadata": {},
     "output_type": "execute_result"
    }
   ],
   "source": [
    "df_raw.head()"
   ]
  },
  {
   "cell_type": "markdown",
   "metadata": {},
   "source": [
    "If you noticed the `NaN` value, this means that the data is not clean and there is missing data 🤨. \n",
    "\n",
    "## 3. Data Analysis\n",
    "\n",
    "Let's take a look to the data description, for this we will use [`describe()`](https://pandas.pydata.org/docs/reference/api/pandas.DataFrame.describe.html)"
   ]
  },
  {
   "cell_type": "code",
   "execution_count": 5,
   "metadata": {
    "scrolled": true
   },
   "outputs": [
    {
     "data": {
      "text/html": [
       "<div>\n",
       "<style scoped>\n",
       "    .dataframe tbody tr th:only-of-type {\n",
       "        vertical-align: middle;\n",
       "    }\n",
       "\n",
       "    .dataframe tbody tr th {\n",
       "        vertical-align: top;\n",
       "    }\n",
       "\n",
       "    .dataframe thead th {\n",
       "        text-align: right;\n",
       "    }\n",
       "</style>\n",
       "<table border=\"1\" class=\"dataframe\">\n",
       "  <thead>\n",
       "    <tr style=\"text-align: right;\">\n",
       "      <th></th>\n",
       "      <th>id</th>\n",
       "      <th>date</th>\n",
       "      <th>price</th>\n",
       "      <th>bedrooms</th>\n",
       "      <th>bathrooms</th>\n",
       "      <th>sqft_living</th>\n",
       "      <th>sqft_lot</th>\n",
       "      <th>floors</th>\n",
       "      <th>condition</th>\n",
       "      <th>yr_built</th>\n",
       "      <th>zipcode</th>\n",
       "    </tr>\n",
       "  </thead>\n",
       "  <tbody>\n",
       "    <tr>\n",
       "      <th>count</th>\n",
       "      <td>2.161500e+04</td>\n",
       "      <td>21615.000000</td>\n",
       "      <td>2.161300e+04</td>\n",
       "      <td>21614.000000</td>\n",
       "      <td>21614.000000</td>\n",
       "      <td>21614.000000</td>\n",
       "      <td>2.161300e+04</td>\n",
       "      <td>21615.000000</td>\n",
       "      <td>21614.000000</td>\n",
       "      <td>21615.000000</td>\n",
       "      <td>21614.000000</td>\n",
       "    </tr>\n",
       "    <tr>\n",
       "      <th>mean</th>\n",
       "      <td>4.580099e+09</td>\n",
       "      <td>2014.322924</td>\n",
       "      <td>5.401063e+05</td>\n",
       "      <td>3.370871</td>\n",
       "      <td>2.114845</td>\n",
       "      <td>2079.898816</td>\n",
       "      <td>1.510725e+04</td>\n",
       "      <td>1.494310</td>\n",
       "      <td>3.409457</td>\n",
       "      <td>1971.004534</td>\n",
       "      <td>98077.940270</td>\n",
       "    </tr>\n",
       "    <tr>\n",
       "      <th>std</th>\n",
       "      <td>2.876513e+09</td>\n",
       "      <td>0.467605</td>\n",
       "      <td>3.671369e+05</td>\n",
       "      <td>0.930050</td>\n",
       "      <td>0.770117</td>\n",
       "      <td>918.417120</td>\n",
       "      <td>4.142048e+04</td>\n",
       "      <td>0.539985</td>\n",
       "      <td>0.650740</td>\n",
       "      <td>29.372988</td>\n",
       "      <td>53.504183</td>\n",
       "    </tr>\n",
       "    <tr>\n",
       "      <th>min</th>\n",
       "      <td>1.000102e+06</td>\n",
       "      <td>2014.000000</td>\n",
       "      <td>7.500000e+04</td>\n",
       "      <td>0.000000</td>\n",
       "      <td>0.000000</td>\n",
       "      <td>290.000000</td>\n",
       "      <td>5.200000e+02</td>\n",
       "      <td>1.000000</td>\n",
       "      <td>1.000000</td>\n",
       "      <td>1900.000000</td>\n",
       "      <td>98001.000000</td>\n",
       "    </tr>\n",
       "    <tr>\n",
       "      <th>25%</th>\n",
       "      <td>2.123049e+09</td>\n",
       "      <td>2014.000000</td>\n",
       "      <td>3.219500e+05</td>\n",
       "      <td>3.000000</td>\n",
       "      <td>1.750000</td>\n",
       "      <td>1427.750000</td>\n",
       "      <td>5.040000e+03</td>\n",
       "      <td>1.000000</td>\n",
       "      <td>3.000000</td>\n",
       "      <td>1951.000000</td>\n",
       "      <td>98033.000000</td>\n",
       "    </tr>\n",
       "    <tr>\n",
       "      <th>50%</th>\n",
       "      <td>3.904930e+09</td>\n",
       "      <td>2014.000000</td>\n",
       "      <td>4.500000e+05</td>\n",
       "      <td>3.000000</td>\n",
       "      <td>2.250000</td>\n",
       "      <td>1910.000000</td>\n",
       "      <td>7.618000e+03</td>\n",
       "      <td>1.500000</td>\n",
       "      <td>3.000000</td>\n",
       "      <td>1975.000000</td>\n",
       "      <td>98065.000000</td>\n",
       "    </tr>\n",
       "    <tr>\n",
       "      <th>75%</th>\n",
       "      <td>7.308900e+09</td>\n",
       "      <td>2015.000000</td>\n",
       "      <td>6.450000e+05</td>\n",
       "      <td>4.000000</td>\n",
       "      <td>2.500000</td>\n",
       "      <td>2550.000000</td>\n",
       "      <td>1.068900e+04</td>\n",
       "      <td>2.000000</td>\n",
       "      <td>4.000000</td>\n",
       "      <td>1997.000000</td>\n",
       "      <td>98118.000000</td>\n",
       "    </tr>\n",
       "    <tr>\n",
       "      <th>max</th>\n",
       "      <td>9.900000e+09</td>\n",
       "      <td>2015.000000</td>\n",
       "      <td>7.700000e+06</td>\n",
       "      <td>33.000000</td>\n",
       "      <td>8.000000</td>\n",
       "      <td>13540.000000</td>\n",
       "      <td>1.651359e+06</td>\n",
       "      <td>3.500000</td>\n",
       "      <td>5.000000</td>\n",
       "      <td>2015.000000</td>\n",
       "      <td>98199.000000</td>\n",
       "    </tr>\n",
       "  </tbody>\n",
       "</table>\n",
       "</div>"
      ],
      "text/plain": [
       "                 id          date         price      bedrooms     bathrooms  \\\n",
       "count  2.161500e+04  21615.000000  2.161300e+04  21614.000000  21614.000000   \n",
       "mean   4.580099e+09   2014.322924  5.401063e+05      3.370871      2.114845   \n",
       "std    2.876513e+09      0.467605  3.671369e+05      0.930050      0.770117   \n",
       "min    1.000102e+06   2014.000000  7.500000e+04      0.000000      0.000000   \n",
       "25%    2.123049e+09   2014.000000  3.219500e+05      3.000000      1.750000   \n",
       "50%    3.904930e+09   2014.000000  4.500000e+05      3.000000      2.250000   \n",
       "75%    7.308900e+09   2015.000000  6.450000e+05      4.000000      2.500000   \n",
       "max    9.900000e+09   2015.000000  7.700000e+06     33.000000      8.000000   \n",
       "\n",
       "        sqft_living      sqft_lot        floors     condition      yr_built  \\\n",
       "count  21614.000000  2.161300e+04  21615.000000  21614.000000  21615.000000   \n",
       "mean    2079.898816  1.510725e+04      1.494310      3.409457   1971.004534   \n",
       "std      918.417120  4.142048e+04      0.539985      0.650740     29.372988   \n",
       "min      290.000000  5.200000e+02      1.000000      1.000000   1900.000000   \n",
       "25%     1427.750000  5.040000e+03      1.000000      3.000000   1951.000000   \n",
       "50%     1910.000000  7.618000e+03      1.500000      3.000000   1975.000000   \n",
       "75%     2550.000000  1.068900e+04      2.000000      4.000000   1997.000000   \n",
       "max    13540.000000  1.651359e+06      3.500000      5.000000   2015.000000   \n",
       "\n",
       "            zipcode  \n",
       "count  21614.000000  \n",
       "mean   98077.940270  \n",
       "std       53.504183  \n",
       "min    98001.000000  \n",
       "25%    98033.000000  \n",
       "50%    98065.000000  \n",
       "75%    98118.000000  \n",
       "max    98199.000000  "
      ]
     },
     "execution_count": 5,
     "metadata": {},
     "output_type": "execute_result"
    }
   ],
   "source": [
    "df_raw.describe()"
   ]
  },
  {
   "cell_type": "markdown",
   "metadata": {},
   "source": [
    "Above we can see some statistics about each variable in our dataset, like the house `price` with a mean that corresponds to 540106 and a standard deviation of 367136. \n",
    "\n",
    "🧐 Now let's analyze the data using some diagrams. This will provide a clearer view of how the data behaves and how the behavior of these variables influences the price variable:\n"
   ]
  },
  {
   "cell_type": "code",
   "execution_count": 6,
   "metadata": {
    "scrolled": false
   },
   "outputs": [
    {
     "data": {
      "image/png": "[encoded data removed]",
      "text/plain": [
       "<Figure size 1200x1200 with 6 Axes>"
      ]
     },
     "metadata": {},
     "output_type": "display_data"
    },
    {
     "data": {
      "image/png": "[encoded data removed]",
      "text/plain": [
       "<Figure size 1200x1200 with 4 Axes>"
      ]
     },
     "metadata": {},
     "output_type": "display_data"
    }
   ],
   "source": [
    "# Ensure inline display of plots in Jupyter notebooks\n",
    "%matplotlib inline\n",
    "\n",
    "# Drop specified columns to create a dataset of categorical variables\n",
    "x_data_categ = df_raw.drop(['condition', 'zipcode', 'id', 'date', 'price'], axis=1)\n",
    "\n",
    "# Drop specified columns to create a dataset of numerical variables\n",
    "x_data_num = df_raw.drop(['id', 'bathrooms', 'bedrooms', 'sqft_lot', 'sqft_living', 'floors', 'yr_built', 'price'], axis=1)\n",
    "\n",
    "# Replace non-finite values in the 'price' column with the mean of the column\n",
    "price_mean = np.nanmean(df_raw['price'])\n",
    "y_data_price = df_raw['price'].fillna(price_mean)\n",
    "y_data_price = y_data_price.astype(int)\n",
    "\n",
    "# Create subplots with 3 rows and 2 columns, adjust the figure size\n",
    "figure, axis = plt.subplots(3, 2, figsize=(12, 12))\n",
    "flattenedAxis = axis.flatten()\n",
    "plt.subplots_adjust(hspace=0.4)  # Adjust the space between subplots\n",
    "\n",
    "# Initialize a counter for subplot indexing\n",
    "i = 0\n",
    "# Iterate over the columns in x_data_categ\n",
    "for (columnName, columnData) in x_data_categ.items():\n",
    "    flattenedAxis[i].set_title('Price vs ' + str(columnName))  # Set the title of the subplot\n",
    "    flattenedAxis[i].scatter(columnData.astype(str), y_data_price)  # Create a scatter plot\n",
    "    flattenedAxis[i].set_xlabel(str(columnName))  # Set the x-axis label\n",
    "    flattenedAxis[i].set_ylabel('Price')  # Set the y-axis label\n",
    "    flattenedAxis[i].set_xscale('linear')  # Set the x-axis scale to linear\n",
    "    flattenedAxis[i].tick_params(labelrotation=90)  # Rotate x-axis labels for better readability\n",
    "    i += 1  # Increment the counter\n",
    "\n",
    "plt.show()  # Display the plot\n",
    "\n",
    "# Create another set of subplots with 2 rows and 2 columns, adjust the figure size\n",
    "figure2, axis2 = plt.subplots(2, 2, figsize=(12, 12))\n",
    "flattenedAxis2 = axis2.flatten()\n",
    "plt.subplots_adjust(hspace=0.4)  # Adjust the space between subplots\n",
    "\n",
    "# Initialize a counter for subplot indexing\n",
    "i = 0\n",
    "# Iterate over the columns in x_data_num\n",
    "for (columnName, columnData) in x_data_num.items():\n",
    "    flattenedAxis2[i].set_title('Price vs ' + columnName)  # Set the title of the subplot\n",
    "    flattenedAxis2[i].scatter(columnData, y_data_price)  # Create a scatter plot\n",
    "    flattenedAxis2[i].set_xlabel(columnName)  # Set the x-axis label\n",
    "    flattenedAxis2[i].set_ylabel('Price')  # Set the y-axis label\n",
    "    flattenedAxis2[i].tick_params(labelrotation=90)  # Rotate x-axis labels for better readability\n",
    "    i += 1  # Increment the counter\n",
    "\n",
    "# Plot the histogram of the 'price' column\n",
    "count, bins, ignored = plt.hist(y_data_price, bins=120, density=True, alpha=0.6, color='g')\n",
    "\n",
    "# Fit a normal distribution to the 'price' data\n",
    "mu, std = norm.fit(y_data_price)\n",
    "\n",
    "# Generate x values for the normal distribution plot\n",
    "xmin, xmax = plt.xlim()\n",
    "x = np.linspace(xmin, xmax, 100)\n",
    "p = norm.pdf(x, mu, std)\n",
    "\n",
    "# Plot the normal distribution on the last subplot\n",
    "flattenedAxis2[3].plot(x, p, 'k', linewidth=2)\n",
    "flattenedAxis2[3].set_title('Price Distribution')  # Set the title of the subplot\n",
    "\n",
    "# Add titles and labels to the normal distribution plot\n",
    "title = f\"Fit results: mu = {mu:.2f}, std = {std:.2f}\"\n",
    "flattenedAxis2[3].set_title('Normal Distribution of Prices\\n' + title)\n",
    "flattenedAxis2[3].set_xlabel('Price')  # Set the x-axis label\n",
    "flattenedAxis2[3].set_ylabel('Density')  # Set the y-axis label\n",
    "flattenedAxis2[3].grid(True)  # Enable the grid\n",
    "\n",
    "plt.show()  # Display the plot"
   ]
  },
  {
   "cell_type": "markdown",
   "metadata": {},
   "source": [
    "As we can observe, there are a lot of outlier values present in almost all the diagrams, and `price` vs `date` doesn't seem to offer much information. All these factors can affect how well-fitted a linear regression model is for this data. Additionally, we didn't need to draw `id` vs `price` since this variable doesn't affect the price and will be removed from the training process.\n",
    "\n",
    "\n",
    "## 4. Data preparation\n",
    "\n",
    "Before training any machine learning model, it is important to ensure that the data used does not contain errors, such as missing or duplicate data. For this it is advisable to use a new variable, in this case `data`, which we will use to store a set of modified data:"
   ]
  },
  {
   "cell_type": "code",
   "execution_count": 7,
   "metadata": {
    "scrolled": true
   },
   "outputs": [],
   "source": [
    "data = df_raw"
   ]
  },
  {
   "cell_type": "markdown",
   "metadata": {},
   "source": [
    "### Delete missing data\n",
    "\n",
    "Usually, the data obtained from real processes or scenarios is not perfect. For example, there may be cases where some values are not saved, are not measured or are not stored correctly. In these cases, it must be evaluated if it is possible to replace the value (using average values, for example) or if, on the contrary, it is simply better to delete the entire data (that is, the entire row).\n",
    "\n",
    "Using the `isna()` function on our DataFrame, we will obtain the evaluation of a particular conditional, which returns `True` if the cell is empty. With Pandas, a cell is considered \"empty\" if its value is `NaN` or an invalid numeric value (`numpy.NaN`). It is important to note that a cell with an empty String (`''`) is not considered empty, so `isna()` would return `False` in that case "
   ]
  },
  {
   "cell_type": "code",
   "execution_count": 8,
   "metadata": {
    "scrolled": true
   },
   "outputs": [
    {
     "data": {
      "text/html": [
       "<div>\n",
       "<style scoped>\n",
       "    .dataframe tbody tr th:only-of-type {\n",
       "        vertical-align: middle;\n",
       "    }\n",
       "\n",
       "    .dataframe tbody tr th {\n",
       "        vertical-align: top;\n",
       "    }\n",
       "\n",
       "    .dataframe thead th {\n",
       "        text-align: right;\n",
       "    }\n",
       "</style>\n",
       "<table border=\"1\" class=\"dataframe\">\n",
       "  <thead>\n",
       "    <tr style=\"text-align: right;\">\n",
       "      <th></th>\n",
       "      <th>id</th>\n",
       "      <th>date</th>\n",
       "      <th>price</th>\n",
       "      <th>bedrooms</th>\n",
       "      <th>bathrooms</th>\n",
       "      <th>sqft_living</th>\n",
       "      <th>sqft_lot</th>\n",
       "      <th>floors</th>\n",
       "      <th>condition</th>\n",
       "      <th>yr_built</th>\n",
       "      <th>zipcode</th>\n",
       "    </tr>\n",
       "  </thead>\n",
       "  <tbody>\n",
       "    <tr>\n",
       "      <th>0</th>\n",
       "      <td>False</td>\n",
       "      <td>False</td>\n",
       "      <td>False</td>\n",
       "      <td>False</td>\n",
       "      <td>False</td>\n",
       "      <td>False</td>\n",
       "      <td>False</td>\n",
       "      <td>False</td>\n",
       "      <td>False</td>\n",
       "      <td>False</td>\n",
       "      <td>False</td>\n",
       "    </tr>\n",
       "    <tr>\n",
       "      <th>1</th>\n",
       "      <td>False</td>\n",
       "      <td>False</td>\n",
       "      <td>False</td>\n",
       "      <td>False</td>\n",
       "      <td>False</td>\n",
       "      <td>False</td>\n",
       "      <td>False</td>\n",
       "      <td>False</td>\n",
       "      <td>False</td>\n",
       "      <td>False</td>\n",
       "      <td>False</td>\n",
       "    </tr>\n",
       "    <tr>\n",
       "      <th>2</th>\n",
       "      <td>False</td>\n",
       "      <td>False</td>\n",
       "      <td>False</td>\n",
       "      <td>False</td>\n",
       "      <td>False</td>\n",
       "      <td>False</td>\n",
       "      <td>False</td>\n",
       "      <td>False</td>\n",
       "      <td>False</td>\n",
       "      <td>False</td>\n",
       "      <td>False</td>\n",
       "    </tr>\n",
       "    <tr>\n",
       "      <th>3</th>\n",
       "      <td>False</td>\n",
       "      <td>False</td>\n",
       "      <td>False</td>\n",
       "      <td>False</td>\n",
       "      <td>False</td>\n",
       "      <td>False</td>\n",
       "      <td>True</td>\n",
       "      <td>False</td>\n",
       "      <td>False</td>\n",
       "      <td>False</td>\n",
       "      <td>False</td>\n",
       "    </tr>\n",
       "    <tr>\n",
       "      <th>4</th>\n",
       "      <td>False</td>\n",
       "      <td>False</td>\n",
       "      <td>False</td>\n",
       "      <td>False</td>\n",
       "      <td>False</td>\n",
       "      <td>False</td>\n",
       "      <td>False</td>\n",
       "      <td>False</td>\n",
       "      <td>False</td>\n",
       "      <td>False</td>\n",
       "      <td>False</td>\n",
       "    </tr>\n",
       "    <tr>\n",
       "      <th>...</th>\n",
       "      <td>...</td>\n",
       "      <td>...</td>\n",
       "      <td>...</td>\n",
       "      <td>...</td>\n",
       "      <td>...</td>\n",
       "      <td>...</td>\n",
       "      <td>...</td>\n",
       "      <td>...</td>\n",
       "      <td>...</td>\n",
       "      <td>...</td>\n",
       "      <td>...</td>\n",
       "    </tr>\n",
       "    <tr>\n",
       "      <th>21610</th>\n",
       "      <td>False</td>\n",
       "      <td>False</td>\n",
       "      <td>False</td>\n",
       "      <td>False</td>\n",
       "      <td>False</td>\n",
       "      <td>False</td>\n",
       "      <td>False</td>\n",
       "      <td>False</td>\n",
       "      <td>False</td>\n",
       "      <td>False</td>\n",
       "      <td>False</td>\n",
       "    </tr>\n",
       "    <tr>\n",
       "      <th>21611</th>\n",
       "      <td>False</td>\n",
       "      <td>False</td>\n",
       "      <td>False</td>\n",
       "      <td>False</td>\n",
       "      <td>False</td>\n",
       "      <td>False</td>\n",
       "      <td>False</td>\n",
       "      <td>False</td>\n",
       "      <td>False</td>\n",
       "      <td>False</td>\n",
       "      <td>False</td>\n",
       "    </tr>\n",
       "    <tr>\n",
       "      <th>21612</th>\n",
       "      <td>False</td>\n",
       "      <td>False</td>\n",
       "      <td>False</td>\n",
       "      <td>False</td>\n",
       "      <td>False</td>\n",
       "      <td>False</td>\n",
       "      <td>False</td>\n",
       "      <td>False</td>\n",
       "      <td>False</td>\n",
       "      <td>False</td>\n",
       "      <td>False</td>\n",
       "    </tr>\n",
       "    <tr>\n",
       "      <th>21613</th>\n",
       "      <td>False</td>\n",
       "      <td>False</td>\n",
       "      <td>False</td>\n",
       "      <td>False</td>\n",
       "      <td>False</td>\n",
       "      <td>False</td>\n",
       "      <td>False</td>\n",
       "      <td>False</td>\n",
       "      <td>False</td>\n",
       "      <td>False</td>\n",
       "      <td>False</td>\n",
       "    </tr>\n",
       "    <tr>\n",
       "      <th>21614</th>\n",
       "      <td>False</td>\n",
       "      <td>False</td>\n",
       "      <td>False</td>\n",
       "      <td>False</td>\n",
       "      <td>False</td>\n",
       "      <td>False</td>\n",
       "      <td>False</td>\n",
       "      <td>False</td>\n",
       "      <td>False</td>\n",
       "      <td>False</td>\n",
       "      <td>False</td>\n",
       "    </tr>\n",
       "  </tbody>\n",
       "</table>\n",
       "<p>21615 rows × 11 columns</p>\n",
       "</div>"
      ],
      "text/plain": [
       "          id   date  price  bedrooms  bathrooms  sqft_living  sqft_lot  \\\n",
       "0      False  False  False     False      False        False     False   \n",
       "1      False  False  False     False      False        False     False   \n",
       "2      False  False  False     False      False        False     False   \n",
       "3      False  False  False     False      False        False      True   \n",
       "4      False  False  False     False      False        False     False   \n",
       "...      ...    ...    ...       ...        ...          ...       ...   \n",
       "21610  False  False  False     False      False        False     False   \n",
       "21611  False  False  False     False      False        False     False   \n",
       "21612  False  False  False     False      False        False     False   \n",
       "21613  False  False  False     False      False        False     False   \n",
       "21614  False  False  False     False      False        False     False   \n",
       "\n",
       "       floors  condition  yr_built  zipcode  \n",
       "0       False      False     False    False  \n",
       "1       False      False     False    False  \n",
       "2       False      False     False    False  \n",
       "3       False      False     False    False  \n",
       "4       False      False     False    False  \n",
       "...       ...        ...       ...      ...  \n",
       "21610   False      False     False    False  \n",
       "21611   False      False     False    False  \n",
       "21612   False      False     False    False  \n",
       "21613   False      False     False    False  \n",
       "21614   False      False     False    False  \n",
       "\n",
       "[21615 rows x 11 columns]"
      ]
     },
     "execution_count": 8,
     "metadata": {},
     "output_type": "execute_result"
    }
   ],
   "source": [
    "data.isna()"
   ]
  },
  {
   "cell_type": "markdown",
   "metadata": {},
   "source": [
    "If we add the `sum()` function, we will obtain the amount of missing data per variable:"
   ]
  },
  {
   "cell_type": "code",
   "execution_count": 9,
   "metadata": {
    "scrolled": true
   },
   "outputs": [
    {
     "data": {
      "text/plain": [
       "id             0\n",
       "date           0\n",
       "price          2\n",
       "bedrooms       1\n",
       "bathrooms      1\n",
       "sqft_living    1\n",
       "sqft_lot       2\n",
       "floors         0\n",
       "condition      1\n",
       "yr_built       0\n",
       "zipcode        1\n",
       "dtype: int64"
      ]
     },
     "execution_count": 9,
     "metadata": {},
     "output_type": "execute_result"
    }
   ],
   "source": [
    "data.isna().sum()"
   ]
  },
  {
   "cell_type": "markdown",
   "metadata": {},
   "source": [
    "Remember that it is always necessary to check if the data has missing values, since we must deal with them before training the model. **For simplicity purposes of this example, we are going to delete the rows that contain missing data**. \n",
    "\n",
    "⚠️ **In reality for missing data issues it’s recommended to use data imputing techniques instead. We will explain some of this techniques in the following examples.** ⚠️\n",
    "\n",
    "For removing the rows containing missing data use [`dropna()`](https://pandas.pydata.org/docs/reference/api/pandas.DataFrame.dropna.html)"
   ]
  },
  {
   "cell_type": "code",
   "execution_count": 10,
   "metadata": {
    "scrolled": true
   },
   "outputs": [
    {
     "data": {
      "text/html": [
       "<div>\n",
       "<style scoped>\n",
       "    .dataframe tbody tr th:only-of-type {\n",
       "        vertical-align: middle;\n",
       "    }\n",
       "\n",
       "    .dataframe tbody tr th {\n",
       "        vertical-align: top;\n",
       "    }\n",
       "\n",
       "    .dataframe thead th {\n",
       "        text-align: right;\n",
       "    }\n",
       "</style>\n",
       "<table border=\"1\" class=\"dataframe\">\n",
       "  <thead>\n",
       "    <tr style=\"text-align: right;\">\n",
       "      <th></th>\n",
       "      <th>id</th>\n",
       "      <th>date</th>\n",
       "      <th>price</th>\n",
       "      <th>bedrooms</th>\n",
       "      <th>bathrooms</th>\n",
       "      <th>sqft_living</th>\n",
       "      <th>sqft_lot</th>\n",
       "      <th>floors</th>\n",
       "      <th>condition</th>\n",
       "      <th>yr_built</th>\n",
       "      <th>zipcode</th>\n",
       "    </tr>\n",
       "  </thead>\n",
       "  <tbody>\n",
       "    <tr>\n",
       "      <th>0</th>\n",
       "      <td>7129300520</td>\n",
       "      <td>2014</td>\n",
       "      <td>221900.0</td>\n",
       "      <td>3.0</td>\n",
       "      <td>1.00</td>\n",
       "      <td>1180.0</td>\n",
       "      <td>5650.0</td>\n",
       "      <td>1.0</td>\n",
       "      <td>3.0</td>\n",
       "      <td>1955</td>\n",
       "      <td>98178.0</td>\n",
       "    </tr>\n",
       "    <tr>\n",
       "      <th>1</th>\n",
       "      <td>6414100192</td>\n",
       "      <td>2014</td>\n",
       "      <td>538000.0</td>\n",
       "      <td>3.0</td>\n",
       "      <td>2.25</td>\n",
       "      <td>2570.0</td>\n",
       "      <td>7242.0</td>\n",
       "      <td>2.0</td>\n",
       "      <td>3.0</td>\n",
       "      <td>1951</td>\n",
       "      <td>98125.0</td>\n",
       "    </tr>\n",
       "    <tr>\n",
       "      <th>2</th>\n",
       "      <td>5631500400</td>\n",
       "      <td>2015</td>\n",
       "      <td>180000.0</td>\n",
       "      <td>2.0</td>\n",
       "      <td>1.00</td>\n",
       "      <td>770.0</td>\n",
       "      <td>10000.0</td>\n",
       "      <td>1.0</td>\n",
       "      <td>3.0</td>\n",
       "      <td>1933</td>\n",
       "      <td>98028.0</td>\n",
       "    </tr>\n",
       "    <tr>\n",
       "      <th>4</th>\n",
       "      <td>1954400510</td>\n",
       "      <td>2015</td>\n",
       "      <td>510000.0</td>\n",
       "      <td>3.0</td>\n",
       "      <td>2.00</td>\n",
       "      <td>1680.0</td>\n",
       "      <td>8080.0</td>\n",
       "      <td>1.0</td>\n",
       "      <td>3.0</td>\n",
       "      <td>1987</td>\n",
       "      <td>98074.0</td>\n",
       "    </tr>\n",
       "    <tr>\n",
       "      <th>5</th>\n",
       "      <td>7237550310</td>\n",
       "      <td>2014</td>\n",
       "      <td>1225000.0</td>\n",
       "      <td>4.0</td>\n",
       "      <td>4.50</td>\n",
       "      <td>5420.0</td>\n",
       "      <td>101930.0</td>\n",
       "      <td>1.0</td>\n",
       "      <td>3.0</td>\n",
       "      <td>2001</td>\n",
       "      <td>98053.0</td>\n",
       "    </tr>\n",
       "    <tr>\n",
       "      <th>...</th>\n",
       "      <td>...</td>\n",
       "      <td>...</td>\n",
       "      <td>...</td>\n",
       "      <td>...</td>\n",
       "      <td>...</td>\n",
       "      <td>...</td>\n",
       "      <td>...</td>\n",
       "      <td>...</td>\n",
       "      <td>...</td>\n",
       "      <td>...</td>\n",
       "      <td>...</td>\n",
       "    </tr>\n",
       "    <tr>\n",
       "      <th>21610</th>\n",
       "      <td>1523300141</td>\n",
       "      <td>2014</td>\n",
       "      <td>402101.0</td>\n",
       "      <td>2.0</td>\n",
       "      <td>0.75</td>\n",
       "      <td>1020.0</td>\n",
       "      <td>1350.0</td>\n",
       "      <td>2.0</td>\n",
       "      <td>3.0</td>\n",
       "      <td>2009</td>\n",
       "      <td>98144.0</td>\n",
       "    </tr>\n",
       "    <tr>\n",
       "      <th>21611</th>\n",
       "      <td>291310100</td>\n",
       "      <td>2015</td>\n",
       "      <td>400000.0</td>\n",
       "      <td>3.0</td>\n",
       "      <td>2.50</td>\n",
       "      <td>1600.0</td>\n",
       "      <td>2388.0</td>\n",
       "      <td>2.0</td>\n",
       "      <td>3.0</td>\n",
       "      <td>2004</td>\n",
       "      <td>98027.0</td>\n",
       "    </tr>\n",
       "    <tr>\n",
       "      <th>21612</th>\n",
       "      <td>1523300157</td>\n",
       "      <td>2014</td>\n",
       "      <td>325000.0</td>\n",
       "      <td>2.0</td>\n",
       "      <td>0.75</td>\n",
       "      <td>1020.0</td>\n",
       "      <td>1076.0</td>\n",
       "      <td>2.0</td>\n",
       "      <td>3.0</td>\n",
       "      <td>2008</td>\n",
       "      <td>98144.0</td>\n",
       "    </tr>\n",
       "    <tr>\n",
       "      <th>21613</th>\n",
       "      <td>2818100255</td>\n",
       "      <td>2014</td>\n",
       "      <td>922000.0</td>\n",
       "      <td>4.0</td>\n",
       "      <td>2.50</td>\n",
       "      <td>2620.0</td>\n",
       "      <td>14126.0</td>\n",
       "      <td>1.0</td>\n",
       "      <td>4.0</td>\n",
       "      <td>1941</td>\n",
       "      <td>98117.0</td>\n",
       "    </tr>\n",
       "    <tr>\n",
       "      <th>21614</th>\n",
       "      <td>1954420170</td>\n",
       "      <td>2014</td>\n",
       "      <td>368250.0</td>\n",
       "      <td>3.0</td>\n",
       "      <td>2.50</td>\n",
       "      <td>2150.0</td>\n",
       "      <td>7484.0</td>\n",
       "      <td>2.0</td>\n",
       "      <td>3.0</td>\n",
       "      <td>1988</td>\n",
       "      <td>98074.0</td>\n",
       "    </tr>\n",
       "  </tbody>\n",
       "</table>\n",
       "<p>21606 rows × 11 columns</p>\n",
       "</div>"
      ],
      "text/plain": [
       "               id  date      price  bedrooms  bathrooms  sqft_living  \\\n",
       "0      7129300520  2014   221900.0       3.0       1.00       1180.0   \n",
       "1      6414100192  2014   538000.0       3.0       2.25       2570.0   \n",
       "2      5631500400  2015   180000.0       2.0       1.00        770.0   \n",
       "4      1954400510  2015   510000.0       3.0       2.00       1680.0   \n",
       "5      7237550310  2014  1225000.0       4.0       4.50       5420.0   \n",
       "...           ...   ...        ...       ...        ...          ...   \n",
       "21610  1523300141  2014   402101.0       2.0       0.75       1020.0   \n",
       "21611   291310100  2015   400000.0       3.0       2.50       1600.0   \n",
       "21612  1523300157  2014   325000.0       2.0       0.75       1020.0   \n",
       "21613  2818100255  2014   922000.0       4.0       2.50       2620.0   \n",
       "21614  1954420170  2014   368250.0       3.0       2.50       2150.0   \n",
       "\n",
       "       sqft_lot  floors  condition  yr_built  zipcode  \n",
       "0        5650.0     1.0        3.0      1955  98178.0  \n",
       "1        7242.0     2.0        3.0      1951  98125.0  \n",
       "2       10000.0     1.0        3.0      1933  98028.0  \n",
       "4        8080.0     1.0        3.0      1987  98074.0  \n",
       "5      101930.0     1.0        3.0      2001  98053.0  \n",
       "...         ...     ...        ...       ...      ...  \n",
       "21610    1350.0     2.0        3.0      2009  98144.0  \n",
       "21611    2388.0     2.0        3.0      2004  98027.0  \n",
       "21612    1076.0     2.0        3.0      2008  98144.0  \n",
       "21613   14126.0     1.0        4.0      1941  98117.0  \n",
       "21614    7484.0     2.0        3.0      1988  98074.0  \n",
       "\n",
       "[21606 rows x 11 columns]"
      ]
     },
     "execution_count": 10,
     "metadata": {},
     "output_type": "execute_result"
    }
   ],
   "source": [
    "data.dropna(inplace=True) \n",
    "data"
   ]
  },
  {
   "cell_type": "markdown",
   "metadata": {},
   "source": [
    "😱 Wow it was a lot of missing data! Helpfully this is just a simple example and we have enough rows 😅. Let's take a look to our data after the cleaning. "
   ]
  },
  {
   "cell_type": "code",
   "execution_count": 11,
   "metadata": {
    "scrolled": false
   },
   "outputs": [
    {
     "data": {
      "text/plain": [
       "id             0\n",
       "date           0\n",
       "price          0\n",
       "bedrooms       0\n",
       "bathrooms      0\n",
       "sqft_living    0\n",
       "sqft_lot       0\n",
       "floors         0\n",
       "condition      0\n",
       "yr_built       0\n",
       "zipcode        0\n",
       "dtype: int64"
      ]
     },
     "execution_count": 11,
     "metadata": {},
     "output_type": "execute_result"
    }
   ],
   "source": [
    "data.isna().sum()"
   ]
  },
  {
   "cell_type": "markdown",
   "metadata": {},
   "source": [
    "Looking nice 🙂!"
   ]
  },
  {
   "cell_type": "markdown",
   "metadata": {},
   "source": [
    "### Duplicate removal\n",
    "\n",
    "Another possible error that can happen in a set is the repetition of data (in the case of a DataFrame, it would be repeated rows). The main problem is that, if we have a lot of repeated data when training, the resulting model will not be able to generalize correctly when evaluating new data, but will be overfitting or biased toward duplicate data.\n",
    "\n",
    "Similar to the previous case, we will use the `duplicated()` function to obtain the result of a special query, which returns `True` if the row is a copy of another. Specifically, this function checks the rows in order, returning ` False` if we see a row for the first time. If we ever encounter a row we have already seen, it will mark the current row as `True`, but will do nothing with the original row. This is the result in our data set: "
   ]
  },
  {
   "cell_type": "code",
   "execution_count": 12,
   "metadata": {
    "scrolled": true
   },
   "outputs": [
    {
     "data": {
      "text/plain": [
       "0        False\n",
       "1        False\n",
       "2        False\n",
       "4        False\n",
       "5        False\n",
       "         ...  \n",
       "21610    False\n",
       "21611    False\n",
       "21612    False\n",
       "21613     True\n",
       "21614     True\n",
       "Length: 21606, dtype: bool"
      ]
     },
     "execution_count": 12,
     "metadata": {},
     "output_type": "execute_result"
    }
   ],
   "source": [
    "data.duplicated()"
   ]
  },
  {
   "cell_type": "markdown",
   "metadata": {},
   "source": [
    "If we add `sum()`, we will get the number of duplicate rows:"
   ]
  },
  {
   "cell_type": "code",
   "execution_count": 13,
   "metadata": {
    "scrolled": true
   },
   "outputs": [
    {
     "data": {
      "text/plain": [
       "4"
      ]
     },
     "execution_count": 13,
     "metadata": {},
     "output_type": "execute_result"
    }
   ],
   "source": [
    "data.duplicated().sum()"
   ]
  },
  {
   "cell_type": "markdown",
   "metadata": {},
   "source": [
    "There are some duplicated values as well, to remove those we will use [`drop_duplicates()`](https://pandas.pydata.org/docs/reference/api/pandas.DataFrame.drop_duplicates.html)"
   ]
  },
  {
   "cell_type": "code",
   "execution_count": 14,
   "metadata": {
    "scrolled": true
   },
   "outputs": [
    {
     "data": {
      "text/html": [
       "<div>\n",
       "<style scoped>\n",
       "    .dataframe tbody tr th:only-of-type {\n",
       "        vertical-align: middle;\n",
       "    }\n",
       "\n",
       "    .dataframe tbody tr th {\n",
       "        vertical-align: top;\n",
       "    }\n",
       "\n",
       "    .dataframe thead th {\n",
       "        text-align: right;\n",
       "    }\n",
       "</style>\n",
       "<table border=\"1\" class=\"dataframe\">\n",
       "  <thead>\n",
       "    <tr style=\"text-align: right;\">\n",
       "      <th></th>\n",
       "      <th>id</th>\n",
       "      <th>date</th>\n",
       "      <th>price</th>\n",
       "      <th>bedrooms</th>\n",
       "      <th>bathrooms</th>\n",
       "      <th>sqft_living</th>\n",
       "      <th>sqft_lot</th>\n",
       "      <th>floors</th>\n",
       "      <th>condition</th>\n",
       "      <th>yr_built</th>\n",
       "      <th>zipcode</th>\n",
       "    </tr>\n",
       "  </thead>\n",
       "  <tbody>\n",
       "    <tr>\n",
       "      <th>0</th>\n",
       "      <td>7129300520</td>\n",
       "      <td>2014</td>\n",
       "      <td>221900.0</td>\n",
       "      <td>3.0</td>\n",
       "      <td>1.00</td>\n",
       "      <td>1180.0</td>\n",
       "      <td>5650.0</td>\n",
       "      <td>1.0</td>\n",
       "      <td>3.0</td>\n",
       "      <td>1955</td>\n",
       "      <td>98178.0</td>\n",
       "    </tr>\n",
       "    <tr>\n",
       "      <th>1</th>\n",
       "      <td>6414100192</td>\n",
       "      <td>2014</td>\n",
       "      <td>538000.0</td>\n",
       "      <td>3.0</td>\n",
       "      <td>2.25</td>\n",
       "      <td>2570.0</td>\n",
       "      <td>7242.0</td>\n",
       "      <td>2.0</td>\n",
       "      <td>3.0</td>\n",
       "      <td>1951</td>\n",
       "      <td>98125.0</td>\n",
       "    </tr>\n",
       "    <tr>\n",
       "      <th>2</th>\n",
       "      <td>5631500400</td>\n",
       "      <td>2015</td>\n",
       "      <td>180000.0</td>\n",
       "      <td>2.0</td>\n",
       "      <td>1.00</td>\n",
       "      <td>770.0</td>\n",
       "      <td>10000.0</td>\n",
       "      <td>1.0</td>\n",
       "      <td>3.0</td>\n",
       "      <td>1933</td>\n",
       "      <td>98028.0</td>\n",
       "    </tr>\n",
       "    <tr>\n",
       "      <th>4</th>\n",
       "      <td>1954400510</td>\n",
       "      <td>2015</td>\n",
       "      <td>510000.0</td>\n",
       "      <td>3.0</td>\n",
       "      <td>2.00</td>\n",
       "      <td>1680.0</td>\n",
       "      <td>8080.0</td>\n",
       "      <td>1.0</td>\n",
       "      <td>3.0</td>\n",
       "      <td>1987</td>\n",
       "      <td>98074.0</td>\n",
       "    </tr>\n",
       "    <tr>\n",
       "      <th>5</th>\n",
       "      <td>7237550310</td>\n",
       "      <td>2014</td>\n",
       "      <td>1225000.0</td>\n",
       "      <td>4.0</td>\n",
       "      <td>4.50</td>\n",
       "      <td>5420.0</td>\n",
       "      <td>101930.0</td>\n",
       "      <td>1.0</td>\n",
       "      <td>3.0</td>\n",
       "      <td>2001</td>\n",
       "      <td>98053.0</td>\n",
       "    </tr>\n",
       "    <tr>\n",
       "      <th>...</th>\n",
       "      <td>...</td>\n",
       "      <td>...</td>\n",
       "      <td>...</td>\n",
       "      <td>...</td>\n",
       "      <td>...</td>\n",
       "      <td>...</td>\n",
       "      <td>...</td>\n",
       "      <td>...</td>\n",
       "      <td>...</td>\n",
       "      <td>...</td>\n",
       "      <td>...</td>\n",
       "    </tr>\n",
       "    <tr>\n",
       "      <th>21607</th>\n",
       "      <td>2997800021</td>\n",
       "      <td>2015</td>\n",
       "      <td>475000.0</td>\n",
       "      <td>3.0</td>\n",
       "      <td>2.50</td>\n",
       "      <td>1310.0</td>\n",
       "      <td>1294.0</td>\n",
       "      <td>2.0</td>\n",
       "      <td>3.0</td>\n",
       "      <td>2008</td>\n",
       "      <td>98116.0</td>\n",
       "    </tr>\n",
       "    <tr>\n",
       "      <th>21609</th>\n",
       "      <td>6600060120</td>\n",
       "      <td>2015</td>\n",
       "      <td>400000.0</td>\n",
       "      <td>4.0</td>\n",
       "      <td>2.50</td>\n",
       "      <td>2310.0</td>\n",
       "      <td>5813.0</td>\n",
       "      <td>2.0</td>\n",
       "      <td>3.0</td>\n",
       "      <td>2014</td>\n",
       "      <td>98146.0</td>\n",
       "    </tr>\n",
       "    <tr>\n",
       "      <th>21610</th>\n",
       "      <td>1523300141</td>\n",
       "      <td>2014</td>\n",
       "      <td>402101.0</td>\n",
       "      <td>2.0</td>\n",
       "      <td>0.75</td>\n",
       "      <td>1020.0</td>\n",
       "      <td>1350.0</td>\n",
       "      <td>2.0</td>\n",
       "      <td>3.0</td>\n",
       "      <td>2009</td>\n",
       "      <td>98144.0</td>\n",
       "    </tr>\n",
       "    <tr>\n",
       "      <th>21611</th>\n",
       "      <td>291310100</td>\n",
       "      <td>2015</td>\n",
       "      <td>400000.0</td>\n",
       "      <td>3.0</td>\n",
       "      <td>2.50</td>\n",
       "      <td>1600.0</td>\n",
       "      <td>2388.0</td>\n",
       "      <td>2.0</td>\n",
       "      <td>3.0</td>\n",
       "      <td>2004</td>\n",
       "      <td>98027.0</td>\n",
       "    </tr>\n",
       "    <tr>\n",
       "      <th>21612</th>\n",
       "      <td>1523300157</td>\n",
       "      <td>2014</td>\n",
       "      <td>325000.0</td>\n",
       "      <td>2.0</td>\n",
       "      <td>0.75</td>\n",
       "      <td>1020.0</td>\n",
       "      <td>1076.0</td>\n",
       "      <td>2.0</td>\n",
       "      <td>3.0</td>\n",
       "      <td>2008</td>\n",
       "      <td>98144.0</td>\n",
       "    </tr>\n",
       "  </tbody>\n",
       "</table>\n",
       "<p>21602 rows × 11 columns</p>\n",
       "</div>"
      ],
      "text/plain": [
       "               id  date      price  bedrooms  bathrooms  sqft_living  \\\n",
       "0      7129300520  2014   221900.0       3.0       1.00       1180.0   \n",
       "1      6414100192  2014   538000.0       3.0       2.25       2570.0   \n",
       "2      5631500400  2015   180000.0       2.0       1.00        770.0   \n",
       "4      1954400510  2015   510000.0       3.0       2.00       1680.0   \n",
       "5      7237550310  2014  1225000.0       4.0       4.50       5420.0   \n",
       "...           ...   ...        ...       ...        ...          ...   \n",
       "21607  2997800021  2015   475000.0       3.0       2.50       1310.0   \n",
       "21609  6600060120  2015   400000.0       4.0       2.50       2310.0   \n",
       "21610  1523300141  2014   402101.0       2.0       0.75       1020.0   \n",
       "21611   291310100  2015   400000.0       3.0       2.50       1600.0   \n",
       "21612  1523300157  2014   325000.0       2.0       0.75       1020.0   \n",
       "\n",
       "       sqft_lot  floors  condition  yr_built  zipcode  \n",
       "0        5650.0     1.0        3.0      1955  98178.0  \n",
       "1        7242.0     2.0        3.0      1951  98125.0  \n",
       "2       10000.0     1.0        3.0      1933  98028.0  \n",
       "4        8080.0     1.0        3.0      1987  98074.0  \n",
       "5      101930.0     1.0        3.0      2001  98053.0  \n",
       "...         ...     ...        ...       ...      ...  \n",
       "21607    1294.0     2.0        3.0      2008  98116.0  \n",
       "21609    5813.0     2.0        3.0      2014  98146.0  \n",
       "21610    1350.0     2.0        3.0      2009  98144.0  \n",
       "21611    2388.0     2.0        3.0      2004  98027.0  \n",
       "21612    1076.0     2.0        3.0      2008  98144.0  \n",
       "\n",
       "[21602 rows x 11 columns]"
      ]
     },
     "execution_count": 14,
     "metadata": {},
     "output_type": "execute_result"
    }
   ],
   "source": [
    "data.drop_duplicates(inplace=True)\n",
    "data"
   ]
  },
  {
   "cell_type": "markdown",
   "metadata": {},
   "source": [
    "Let's take a look to the duplicates again"
   ]
  },
  {
   "cell_type": "code",
   "execution_count": 15,
   "metadata": {
    "scrolled": true
   },
   "outputs": [
    {
     "data": {
      "text/plain": [
       "0"
      ]
     },
     "execution_count": 15,
     "metadata": {},
     "output_type": "execute_result"
    }
   ],
   "source": [
    "data.duplicated().sum()"
   ]
  },
  {
   "cell_type": "markdown",
   "metadata": {},
   "source": [
    "Much better! 🙂"
   ]
  },
  {
   "cell_type": "markdown",
   "metadata": {},
   "source": [
    "### ❌ Elimination of irrelevant variables\n",
    "\n",
    "When training a linear regression model, we look for a relationship between the target variable and the independent variables. However, we must consider the context of our data, in order to avoid creating relationships that are not relevant to the problem, or maintaining variables that give redundant information. For this example, we will eliminate three variables with little relevance to home prices: `id`, `date`, `condition` and `zipcode`.\n",
    "\n",
    "To remove them, we will use the [`drop()`](https://pandas.pydata.org/docs/reference/api/pandas.DataFrame.drop.html) function on our DataFrame and assign the result to itself, overwriting its contents. Note that the `axis=1` parameter indicates that we will perform this action on the columns:"
   ]
  },
  {
   "cell_type": "code",
   "execution_count": 16,
   "metadata": {
    "scrolled": true
   },
   "outputs": [],
   "source": [
    "data = data.drop(['id', 'date', 'condition', 'zipcode'], axis=1)"
   ]
  },
  {
   "cell_type": "markdown",
   "metadata": {},
   "source": [
    "We will see the result with `data.head()`:"
   ]
  },
  {
   "cell_type": "code",
   "execution_count": 17,
   "metadata": {
    "scrolled": true
   },
   "outputs": [
    {
     "data": {
      "text/html": [
       "<div>\n",
       "<style scoped>\n",
       "    .dataframe tbody tr th:only-of-type {\n",
       "        vertical-align: middle;\n",
       "    }\n",
       "\n",
       "    .dataframe tbody tr th {\n",
       "        vertical-align: top;\n",
       "    }\n",
       "\n",
       "    .dataframe thead th {\n",
       "        text-align: right;\n",
       "    }\n",
       "</style>\n",
       "<table border=\"1\" class=\"dataframe\">\n",
       "  <thead>\n",
       "    <tr style=\"text-align: right;\">\n",
       "      <th></th>\n",
       "      <th>price</th>\n",
       "      <th>bedrooms</th>\n",
       "      <th>bathrooms</th>\n",
       "      <th>sqft_living</th>\n",
       "      <th>sqft_lot</th>\n",
       "      <th>floors</th>\n",
       "      <th>yr_built</th>\n",
       "    </tr>\n",
       "  </thead>\n",
       "  <tbody>\n",
       "    <tr>\n",
       "      <th>0</th>\n",
       "      <td>221900.0</td>\n",
       "      <td>3.0</td>\n",
       "      <td>1.00</td>\n",
       "      <td>1180.0</td>\n",
       "      <td>5650.0</td>\n",
       "      <td>1.0</td>\n",
       "      <td>1955</td>\n",
       "    </tr>\n",
       "    <tr>\n",
       "      <th>1</th>\n",
       "      <td>538000.0</td>\n",
       "      <td>3.0</td>\n",
       "      <td>2.25</td>\n",
       "      <td>2570.0</td>\n",
       "      <td>7242.0</td>\n",
       "      <td>2.0</td>\n",
       "      <td>1951</td>\n",
       "    </tr>\n",
       "    <tr>\n",
       "      <th>2</th>\n",
       "      <td>180000.0</td>\n",
       "      <td>2.0</td>\n",
       "      <td>1.00</td>\n",
       "      <td>770.0</td>\n",
       "      <td>10000.0</td>\n",
       "      <td>1.0</td>\n",
       "      <td>1933</td>\n",
       "    </tr>\n",
       "    <tr>\n",
       "      <th>4</th>\n",
       "      <td>510000.0</td>\n",
       "      <td>3.0</td>\n",
       "      <td>2.00</td>\n",
       "      <td>1680.0</td>\n",
       "      <td>8080.0</td>\n",
       "      <td>1.0</td>\n",
       "      <td>1987</td>\n",
       "    </tr>\n",
       "    <tr>\n",
       "      <th>5</th>\n",
       "      <td>1225000.0</td>\n",
       "      <td>4.0</td>\n",
       "      <td>4.50</td>\n",
       "      <td>5420.0</td>\n",
       "      <td>101930.0</td>\n",
       "      <td>1.0</td>\n",
       "      <td>2001</td>\n",
       "    </tr>\n",
       "  </tbody>\n",
       "</table>\n",
       "</div>"
      ],
      "text/plain": [
       "       price  bedrooms  bathrooms  sqft_living  sqft_lot  floors  yr_built\n",
       "0   221900.0       3.0       1.00       1180.0    5650.0     1.0      1955\n",
       "1   538000.0       3.0       2.25       2570.0    7242.0     2.0      1951\n",
       "2   180000.0       2.0       1.00        770.0   10000.0     1.0      1933\n",
       "4   510000.0       3.0       2.00       1680.0    8080.0     1.0      1987\n",
       "5  1225000.0       4.0       4.50       5420.0  101930.0     1.0      2001"
      ]
     },
     "execution_count": 17,
     "metadata": {},
     "output_type": "execute_result"
    }
   ],
   "source": [
    "data.head()"
   ]
  },
  {
   "cell_type": "markdown",
   "metadata": {},
   "source": [
    "## 5. Training a linear regression model\n",
    "\n",
    "With the data prepared, we can now train our linear regression model. The first thing we will do is divide it into two subsets and then train the model."
   ]
  },
  {
   "cell_type": "markdown",
   "metadata": {},
   "source": [
    "### 🪚 Data Splitting \n",
    "\n",
    "First we have to divide the resulting data set into two: one used for training and one used for testing. we can decide what proportion of data to assign to each set, for example, for this model we will use 80% of the data for train the model and the remaining 20% to test it. Specifically, we will use the [`train_test_split()`](https://scikit-learn.org/stable/modules/generated/sklearn.model_selection.train_test_split.html) function with the following parameters: \n",
    "\n",
    "* `arrays`: the array (or arrays) of data. In this case it is our variable `data`.\n",
    "* `test_size=0.2`: the proportion of test data. It must be a value between 0 and 1. Since we want 20%, we will use the value `0.2`.\n",
    "* `random_state=7`: The seed used to rearrange the data, represented by an integer. Using the same seed will always give the same result, rather than being completely random."
   ]
  },
  {
   "cell_type": "code",
   "execution_count": 18,
   "metadata": {
    "scrolled": true
   },
   "outputs": [
    {
     "data": {
      "text/html": [
       "<div>\n",
       "<style scoped>\n",
       "    .dataframe tbody tr th:only-of-type {\n",
       "        vertical-align: middle;\n",
       "    }\n",
       "\n",
       "    .dataframe tbody tr th {\n",
       "        vertical-align: top;\n",
       "    }\n",
       "\n",
       "    .dataframe thead th {\n",
       "        text-align: right;\n",
       "    }\n",
       "</style>\n",
       "<table border=\"1\" class=\"dataframe\">\n",
       "  <thead>\n",
       "    <tr style=\"text-align: right;\">\n",
       "      <th></th>\n",
       "      <th>price</th>\n",
       "      <th>bedrooms</th>\n",
       "      <th>bathrooms</th>\n",
       "      <th>sqft_living</th>\n",
       "      <th>sqft_lot</th>\n",
       "      <th>floors</th>\n",
       "      <th>yr_built</th>\n",
       "    </tr>\n",
       "  </thead>\n",
       "  <tbody>\n",
       "    <tr>\n",
       "      <th>15529</th>\n",
       "      <td>1100000.0</td>\n",
       "      <td>4.0</td>\n",
       "      <td>2.75</td>\n",
       "      <td>3410.0</td>\n",
       "      <td>7750.0</td>\n",
       "      <td>1.0</td>\n",
       "      <td>1958</td>\n",
       "    </tr>\n",
       "    <tr>\n",
       "      <th>11627</th>\n",
       "      <td>425000.0</td>\n",
       "      <td>3.0</td>\n",
       "      <td>1.50</td>\n",
       "      <td>1570.0</td>\n",
       "      <td>12412.0</td>\n",
       "      <td>1.0</td>\n",
       "      <td>1954</td>\n",
       "    </tr>\n",
       "    <tr>\n",
       "      <th>17171</th>\n",
       "      <td>250000.0</td>\n",
       "      <td>3.0</td>\n",
       "      <td>2.50</td>\n",
       "      <td>1730.0</td>\n",
       "      <td>7200.0</td>\n",
       "      <td>2.0</td>\n",
       "      <td>1985</td>\n",
       "    </tr>\n",
       "    <tr>\n",
       "      <th>15456</th>\n",
       "      <td>100000.0</td>\n",
       "      <td>2.0</td>\n",
       "      <td>1.00</td>\n",
       "      <td>910.0</td>\n",
       "      <td>22000.0</td>\n",
       "      <td>1.0</td>\n",
       "      <td>1956</td>\n",
       "    </tr>\n",
       "    <tr>\n",
       "      <th>9543</th>\n",
       "      <td>490000.0</td>\n",
       "      <td>4.0</td>\n",
       "      <td>4.25</td>\n",
       "      <td>4480.0</td>\n",
       "      <td>5715.0</td>\n",
       "      <td>2.0</td>\n",
       "      <td>2003</td>\n",
       "    </tr>\n",
       "  </tbody>\n",
       "</table>\n",
       "</div>"
      ],
      "text/plain": [
       "           price  bedrooms  bathrooms  sqft_living  sqft_lot  floors  yr_built\n",
       "15529  1100000.0       4.0       2.75       3410.0    7750.0     1.0      1958\n",
       "11627   425000.0       3.0       1.50       1570.0   12412.0     1.0      1954\n",
       "17171   250000.0       3.0       2.50       1730.0    7200.0     2.0      1985\n",
       "15456   100000.0       2.0       1.00        910.0   22000.0     1.0      1956\n",
       "9543    490000.0       4.0       4.25       4480.0    5715.0     2.0      2003"
      ]
     },
     "execution_count": 18,
     "metadata": {},
     "output_type": "execute_result"
    }
   ],
   "source": [
    "train, test = train_test_split(data, test_size=0.2, random_state=7)\n",
    "train.head()"
   ]
  },
  {
   "cell_type": "markdown",
   "metadata": {},
   "source": [
    "\n",
    "💡For more Information about data splitting with `train_test_split()` we can consult [train_test_split](https://scikit-learn.org/stable/modules/generated/sklearn.model_selection.train_test_split.html)\n",
    "\n",
    "It is important to highlight that, for the supervised algorithms implemented in `scikit-learn`, it is necessary that the input variables be separated from the target variable. In this case our target variable is the price, so we will isolate it from the others .\n",
    "\n",
    "For this we will use the `drop` function and assign the result to `x_train`, which represents the values of the independent variables of the training set. On the other hand, we will assign the same column that we eliminated to another variable, `y_train`, which represents the values of the dependent variable of the training set:"
   ]
  },
  {
   "cell_type": "code",
   "execution_count": 19,
   "metadata": {
    "scrolled": true
   },
   "outputs": [],
   "source": [
    "x_train = train.drop(['price'],axis=1)\n",
    "y_train = train['price']"
   ]
  },
  {
   "cell_type": "markdown",
   "metadata": {},
   "source": [
    "We can verify that our vector of variables X does not contain the variable `price`:"
   ]
  },
  {
   "cell_type": "code",
   "execution_count": 20,
   "metadata": {
    "scrolled": true
   },
   "outputs": [
    {
     "data": {
      "text/html": [
       "<div>\n",
       "<style scoped>\n",
       "    .dataframe tbody tr th:only-of-type {\n",
       "        vertical-align: middle;\n",
       "    }\n",
       "\n",
       "    .dataframe tbody tr th {\n",
       "        vertical-align: top;\n",
       "    }\n",
       "\n",
       "    .dataframe thead th {\n",
       "        text-align: right;\n",
       "    }\n",
       "</style>\n",
       "<table border=\"1\" class=\"dataframe\">\n",
       "  <thead>\n",
       "    <tr style=\"text-align: right;\">\n",
       "      <th></th>\n",
       "      <th>bedrooms</th>\n",
       "      <th>bathrooms</th>\n",
       "      <th>sqft_living</th>\n",
       "      <th>sqft_lot</th>\n",
       "      <th>floors</th>\n",
       "      <th>yr_built</th>\n",
       "    </tr>\n",
       "  </thead>\n",
       "  <tbody>\n",
       "    <tr>\n",
       "      <th>15529</th>\n",
       "      <td>4.0</td>\n",
       "      <td>2.75</td>\n",
       "      <td>3410.0</td>\n",
       "      <td>7750.0</td>\n",
       "      <td>1.0</td>\n",
       "      <td>1958</td>\n",
       "    </tr>\n",
       "    <tr>\n",
       "      <th>11627</th>\n",
       "      <td>3.0</td>\n",
       "      <td>1.50</td>\n",
       "      <td>1570.0</td>\n",
       "      <td>12412.0</td>\n",
       "      <td>1.0</td>\n",
       "      <td>1954</td>\n",
       "    </tr>\n",
       "    <tr>\n",
       "      <th>17171</th>\n",
       "      <td>3.0</td>\n",
       "      <td>2.50</td>\n",
       "      <td>1730.0</td>\n",
       "      <td>7200.0</td>\n",
       "      <td>2.0</td>\n",
       "      <td>1985</td>\n",
       "    </tr>\n",
       "    <tr>\n",
       "      <th>15456</th>\n",
       "      <td>2.0</td>\n",
       "      <td>1.00</td>\n",
       "      <td>910.0</td>\n",
       "      <td>22000.0</td>\n",
       "      <td>1.0</td>\n",
       "      <td>1956</td>\n",
       "    </tr>\n",
       "    <tr>\n",
       "      <th>9543</th>\n",
       "      <td>4.0</td>\n",
       "      <td>4.25</td>\n",
       "      <td>4480.0</td>\n",
       "      <td>5715.0</td>\n",
       "      <td>2.0</td>\n",
       "      <td>2003</td>\n",
       "    </tr>\n",
       "  </tbody>\n",
       "</table>\n",
       "</div>"
      ],
      "text/plain": [
       "       bedrooms  bathrooms  sqft_living  sqft_lot  floors  yr_built\n",
       "15529       4.0       2.75       3410.0    7750.0     1.0      1958\n",
       "11627       3.0       1.50       1570.0   12412.0     1.0      1954\n",
       "17171       3.0       2.50       1730.0    7200.0     2.0      1985\n",
       "15456       2.0       1.00        910.0   22000.0     1.0      1956\n",
       "9543        4.0       4.25       4480.0    5715.0     2.0      2003"
      ]
     },
     "execution_count": 20,
     "metadata": {},
     "output_type": "execute_result"
    }
   ],
   "source": [
    "x_train.head()"
   ]
  },
  {
   "cell_type": "markdown",
   "metadata": {},
   "source": [
    "In addition, we will verify that our variable Y only contains the prices:"
   ]
  },
  {
   "cell_type": "code",
   "execution_count": 21,
   "metadata": {
    "scrolled": true
   },
   "outputs": [
    {
     "data": {
      "text/plain": [
       "15529    1100000.0\n",
       "11627     425000.0\n",
       "17171     250000.0\n",
       "15456     100000.0\n",
       "9543      490000.0\n",
       "Name: price, dtype: float64"
      ]
     },
     "execution_count": 21,
     "metadata": {},
     "output_type": "execute_result"
    }
   ],
   "source": [
    "y_train.head()"
   ]
  },
  {
   "cell_type": "markdown",
   "metadata": {},
   "source": [
    "### 🏋🏽 Model training\n",
    "\n",
    "Now we can train the model with the modified data. Initially we will create an object of type `LinearRegression()`:"
   ]
  },
  {
   "cell_type": "code",
   "execution_count": 22,
   "metadata": {
    "scrolled": true
   },
   "outputs": [],
   "source": [
    "regression = LinearRegression()"
   ]
  },
  {
   "cell_type": "markdown",
   "metadata": {},
   "source": [
    "💡For more information about linear regression with `LinearRegression()` we can consult [LinearRegression](https://scikit-learn.org/stable/modules/generated/sklearn.linear_model.LinearRegression.html)\n",
    "\n",
    "Next we train the model using the training set, which we previously separated into the independent variables `x_train` and the target variable `y_train`:"
   ]
  },
  {
   "cell_type": "code",
   "execution_count": 23,
   "metadata": {
    "scrolled": false
   },
   "outputs": [
    {
     "data": {
      "text/html": [
       "<style>#sk-container-id-1 {color: black;}#sk-container-id-1 pre{padding: 0;}#sk-container-id-1 div.sk-toggleable {background-color: white;}#sk-container-id-1 label.sk-toggleable__label {cursor: pointer;display: block;width: 100%;margin-bottom: 0;padding: 0.3em;box-sizing: border-box;text-align: center;}#sk-container-id-1 label.sk-toggleable__label-arrow:before {content: \"▸\";float: left;margin-right: 0.25em;color: #696969;}#sk-container-id-1 label.sk-toggleable__label-arrow:hover:before {color: black;}#sk-container-id-1 div.sk-estimator:hover label.sk-toggleable__label-arrow:before {color: black;}#sk-container-id-1 div.sk-toggleable__content {max-height: 0;max-width: 0;overflow: hidden;text-align: left;background-color: #f0f8ff;}#sk-container-id-1 div.sk-toggleable__content pre {margin: 0.2em;color: black;border-radius: 0.25em;background-color: #f0f8ff;}#sk-container-id-1 input.sk-toggleable__control:checked~div.sk-toggleable__content {max-height: 200px;max-width: 100%;overflow: auto;}#sk-container-id-1 input.sk-toggleable__control:checked~label.sk-toggleable__label-arrow:before {content: \"▾\";}#sk-container-id-1 div.sk-estimator input.sk-toggleable__control:checked~label.sk-toggleable__label {background-color: #d4ebff;}#sk-container-id-1 div.sk-label input.sk-toggleable__control:checked~label.sk-toggleable__label {background-color: #d4ebff;}#sk-container-id-1 input.sk-hidden--visually {border: 0;clip: rect(1px 1px 1px 1px);clip: rect(1px, 1px, 1px, 1px);height: 1px;margin: -1px;overflow: hidden;padding: 0;position: absolute;width: 1px;}#sk-container-id-1 div.sk-estimator {font-family: monospace;background-color: #f0f8ff;border: 1px dotted black;border-radius: 0.25em;box-sizing: border-box;margin-bottom: 0.5em;}#sk-container-id-1 div.sk-estimator:hover {background-color: #d4ebff;}#sk-container-id-1 div.sk-parallel-item::after {content: \"\";width: 100%;border-bottom: 1px solid gray;flex-grow: 1;}#sk-container-id-1 div.sk-label:hover label.sk-toggleable__label {background-color: #d4ebff;}#sk-container-id-1 div.sk-serial::before {content: \"\";position: absolute;border-left: 1px solid gray;box-sizing: border-box;top: 0;bottom: 0;left: 50%;z-index: 0;}#sk-container-id-1 div.sk-serial {display: flex;flex-direction: column;align-items: center;background-color: white;padding-right: 0.2em;padding-left: 0.2em;position: relative;}#sk-container-id-1 div.sk-item {position: relative;z-index: 1;}#sk-container-id-1 div.sk-parallel {display: flex;align-items: stretch;justify-content: center;background-color: white;position: relative;}#sk-container-id-1 div.sk-item::before, #sk-container-id-1 div.sk-parallel-item::before {content: \"\";position: absolute;border-left: 1px solid gray;box-sizing: border-box;top: 0;bottom: 0;left: 50%;z-index: -1;}#sk-container-id-1 div.sk-parallel-item {display: flex;flex-direction: column;z-index: 1;position: relative;background-color: white;}#sk-container-id-1 div.sk-parallel-item:first-child::after {align-self: flex-end;width: 50%;}#sk-container-id-1 div.sk-parallel-item:last-child::after {align-self: flex-start;width: 50%;}#sk-container-id-1 div.sk-parallel-item:only-child::after {width: 0;}#sk-container-id-1 div.sk-dashed-wrapped {border: 1px dashed gray;margin: 0 0.4em 0.5em 0.4em;box-sizing: border-box;padding-bottom: 0.4em;background-color: white;}#sk-container-id-1 div.sk-label label {font-family: monospace;font-weight: bold;display: inline-block;line-height: 1.2em;}#sk-container-id-1 div.sk-label-container {text-align: center;}#sk-container-id-1 div.sk-container {/* jupyter's `normalize.less` sets `[hidden] { display: none; }` but bootstrap.min.css set `[hidden] { display: none !important; }` so we also need the `!important` here to be able to override the default hidden behavior on the sphinx rendered scikit-learn.org. See: https://github.com/scikit-learn/scikit-learn/issues/21755 */display: inline-block !important;position: relative;}#sk-container-id-1 div.sk-text-repr-fallback {display: none;}</style><div id=\"sk-container-id-1\" class=\"sk-top-container\"><div class=\"sk-text-repr-fallback\"><pre>LinearRegression()</pre><b>In a Jupyter environment, please rerun this cell to show the HTML representation or trust the notebook. <br />On GitHub, the HTML representation is unable to render, please try loading this page with nbviewer.org.</b></div><div class=\"sk-container\" hidden><div class=\"sk-item\"><div class=\"sk-estimator sk-toggleable\"><input class=\"sk-toggleable__control sk-hidden--visually\" id=\"sk-estimator-id-1\" type=\"checkbox\" checked><label for=\"sk-estimator-id-1\" class=\"sk-toggleable__label sk-toggleable__label-arrow\">LinearRegression</label><div class=\"sk-toggleable__content\"><pre>LinearRegression()</pre></div></div></div></div></div>"
      ],
      "text/plain": [
       "LinearRegression()"
      ]
     },
     "execution_count": 23,
     "metadata": {},
     "output_type": "execute_result"
    }
   ],
   "source": [
    "regression.fit(x_train,y_train)"
   ]
  },
  {
   "cell_type": "markdown",
   "metadata": {},
   "source": [
    "The result of the training is the coefficients and the intercept that define a line. Remember that there is a coefficient for each variable, which defines a proportional relationship between it and the target variable:"
   ]
  },
  {
   "cell_type": "code",
   "execution_count": 24,
   "metadata": {
    "scrolled": true
   },
   "outputs": [
    {
     "name": "stdout",
     "output_type": "stream",
     "text": [
      "Coefficients:  [-7.33560245e+04  6.89191966e+04  3.04432988e+02 -3.32956794e-01\n",
      "  5.30720978e+04 -3.36473485e+03]\n",
      "Intercept:  6564966.346671897\n"
     ]
    }
   ],
   "source": [
    "print ('Coefficients: ', regression.coef_)\n",
    "print('Intercept: ', regression.intercept_)"
   ]
  },
  {
   "cell_type": "markdown",
   "metadata": {},
   "source": [
    "We can see what coefficient corresponds to each variable using the `zip()` method, which returns tuples with the elements of each parameter. In this case, we will use the name of the variables (which we will obtain using the `columns` attribute of the variable `x_train`) and the regression coefficients, and we will create a list with the result using the `list()` method:"
   ]
  },
  {
   "cell_type": "code",
   "execution_count": 25,
   "metadata": {
    "scrolled": true
   },
   "outputs": [
    {
     "data": {
      "text/plain": [
       "[('bedrooms', -73356.02452161735),\n",
       " ('bathrooms', 68919.19655840984),\n",
       " ('sqft_living', 304.43298816804236),\n",
       " ('sqft_lot', -0.3329567941618734),\n",
       " ('floors', 53072.097773076),\n",
       " ('yr_built', -3364.734845855929)]"
      ]
     },
     "execution_count": 25,
     "metadata": {},
     "output_type": "execute_result"
    }
   ],
   "source": [
    "list(zip(x_train.columns, regression.coef_))"
   ]
  },
  {
   "cell_type": "markdown",
   "metadata": {},
   "source": [
    "For example, the variable `bathrooms` has an associated coefficient of 68919.19, and the variable `sqft_lot` has an associated coefficient of -0.332."
   ]
  },
  {
   "cell_type": "markdown",
   "metadata": {},
   "source": [
    "## 6. Model evaluation\n",
    "\n",
    "Evaluation metrics will allow us to determine how well a model performs, that is, how it fits the data. The first thing we will do is divide our test set in the same way as we divide the training set. It is That is, we will detach the target variable using `drop()`, and assign this variable to `y_test`:"
   ]
  },
  {
   "cell_type": "code",
   "execution_count": 26,
   "metadata": {
    "scrolled": true
   },
   "outputs": [],
   "source": [
    "x_test = test.drop(['price'],axis=1)\n",
    "y_test = test['price']"
   ]
  },
  {
   "cell_type": "markdown",
   "metadata": {},
   "source": [
    "### 🔮 Time to make predictions!\n",
    "\n",
    "Next we will make predictions on the test set, in order to compare them with the real values that we store in `y_test`. We will use the `predict()` function on the model, passing as parameters the values of the dependent variables of the set of tests `x_test`. That is, for each data, we will give the model the values of the independent variables, and the model will return a value of the target variable calculated with the coefficients and the intercept:"
   ]
  },
  {
   "cell_type": "code",
   "execution_count": 27,
   "metadata": {},
   "outputs": [],
   "source": [
    "y_pred = regression.predict(x_test)"
   ]
  },
  {
   "cell_type": "markdown",
   "metadata": {},
   "source": [
    "Now the resulting array of predictions `y_pred ` will be useful for us to calculate the following metrics:\n",
    "\n",
    "1. **Root Mean Squared Error (RMSE):** \n",
    "we will use `mean_squared_error()` and pass the actual data and predictions as parameters. The `squared` parameter allows us to choose between the root mean squared error (which has units square of the data passed by parameter, in this case USD<sup>2</sup>) and its root (which has the same units of the data passed by parameter, in this case USD).\n",
    "2. **Mean absolute error (MAE):** \n",
    "we will use `mean_absolute_error()` and pass the actual data and predictions as parameters.\n",
    "3. **Coefficient of determination (R<sup>2</sup>):** \n",
    "we will use `r2_score()`, with the same data as in the previous metrics."
   ]
  },
  {
   "cell_type": "code",
   "execution_count": 28,
   "metadata": {
    "scrolled": false
   },
   "outputs": [
    {
     "name": "stdout",
     "output_type": "stream",
     "text": [
      "Root Mean Squared Error (RMSE): 243722.612\n",
      "Mean absolute error (MAE): 158207.778\n",
      "Coefficient of determination (R²): 0.564\n"
     ]
    }
   ],
   "source": [
    "\n",
    "print(\"Root Mean Squared Error (RMSE): %.3f\" % mean_squared_error(y_test, y_pred, squared=False))\n",
    "print(\"Mean absolute error (MAE): %.3f\" % mean_absolute_error(y_test, y_pred))\n",
    "print('Coefficient of determination (R²): %.3f' % r2_score(y_test, y_pred))"
   ]
  },
  {
   "cell_type": "markdown",
   "metadata": {},
   "source": [
    "Based on these metrics, we can say that the root mean squared error in the predictions is 243,722.61 USD, and that the average absolute error in the predictions is 158,207.77 USD. An average error in the order ofhundreds of  thousands of dollars may seem very high, although our R<sup>2</sup> tells us that our model fits the data by 56%, which is ok.\n",
    "\n",
    "💡For more information about errors in `scikit_learn` we can see: [RMSE](https://scikit-learn.org/stable/modules/generated/sklearn.metrics.mean_squared_error.html), [MAE]( https://scikit-learn.org/stable/modules/generated/sklearn.metrics.mean_absolute_error.html) and [R2](https://scikit-learn.org/stable/modules/generated/sklearn.metrics.r2_score.html)\n",
    "\n",
    "Once the generalization performance has been determined using the test set, we can take all the data and train the final model. We will follow the same procedure, first isolating the target variable:"
   ]
  },
  {
   "cell_type": "code",
   "execution_count": 29,
   "metadata": {
    "scrolled": true
   },
   "outputs": [],
   "source": [
    "x = data.drop(['price'],axis=1)\n",
    "y = data['price']"
   ]
  },
  {
   "cell_type": "markdown",
   "metadata": {},
   "source": [
    "We will use the same linear regression object to train the model:"
   ]
  },
  {
   "cell_type": "code",
   "execution_count": 30,
   "metadata": {
    "scrolled": true
   },
   "outputs": [
    {
     "data": {
      "text/html": [
       "<style>#sk-container-id-2 {color: black;}#sk-container-id-2 pre{padding: 0;}#sk-container-id-2 div.sk-toggleable {background-color: white;}#sk-container-id-2 label.sk-toggleable__label {cursor: pointer;display: block;width: 100%;margin-bottom: 0;padding: 0.3em;box-sizing: border-box;text-align: center;}#sk-container-id-2 label.sk-toggleable__label-arrow:before {content: \"▸\";float: left;margin-right: 0.25em;color: #696969;}#sk-container-id-2 label.sk-toggleable__label-arrow:hover:before {color: black;}#sk-container-id-2 div.sk-estimator:hover label.sk-toggleable__label-arrow:before {color: black;}#sk-container-id-2 div.sk-toggleable__content {max-height: 0;max-width: 0;overflow: hidden;text-align: left;background-color: #f0f8ff;}#sk-container-id-2 div.sk-toggleable__content pre {margin: 0.2em;color: black;border-radius: 0.25em;background-color: #f0f8ff;}#sk-container-id-2 input.sk-toggleable__control:checked~div.sk-toggleable__content {max-height: 200px;max-width: 100%;overflow: auto;}#sk-container-id-2 input.sk-toggleable__control:checked~label.sk-toggleable__label-arrow:before {content: \"▾\";}#sk-container-id-2 div.sk-estimator input.sk-toggleable__control:checked~label.sk-toggleable__label {background-color: #d4ebff;}#sk-container-id-2 div.sk-label input.sk-toggleable__control:checked~label.sk-toggleable__label {background-color: #d4ebff;}#sk-container-id-2 input.sk-hidden--visually {border: 0;clip: rect(1px 1px 1px 1px);clip: rect(1px, 1px, 1px, 1px);height: 1px;margin: -1px;overflow: hidden;padding: 0;position: absolute;width: 1px;}#sk-container-id-2 div.sk-estimator {font-family: monospace;background-color: #f0f8ff;border: 1px dotted black;border-radius: 0.25em;box-sizing: border-box;margin-bottom: 0.5em;}#sk-container-id-2 div.sk-estimator:hover {background-color: #d4ebff;}#sk-container-id-2 div.sk-parallel-item::after {content: \"\";width: 100%;border-bottom: 1px solid gray;flex-grow: 1;}#sk-container-id-2 div.sk-label:hover label.sk-toggleable__label {background-color: #d4ebff;}#sk-container-id-2 div.sk-serial::before {content: \"\";position: absolute;border-left: 1px solid gray;box-sizing: border-box;top: 0;bottom: 0;left: 50%;z-index: 0;}#sk-container-id-2 div.sk-serial {display: flex;flex-direction: column;align-items: center;background-color: white;padding-right: 0.2em;padding-left: 0.2em;position: relative;}#sk-container-id-2 div.sk-item {position: relative;z-index: 1;}#sk-container-id-2 div.sk-parallel {display: flex;align-items: stretch;justify-content: center;background-color: white;position: relative;}#sk-container-id-2 div.sk-item::before, #sk-container-id-2 div.sk-parallel-item::before {content: \"\";position: absolute;border-left: 1px solid gray;box-sizing: border-box;top: 0;bottom: 0;left: 50%;z-index: -1;}#sk-container-id-2 div.sk-parallel-item {display: flex;flex-direction: column;z-index: 1;position: relative;background-color: white;}#sk-container-id-2 div.sk-parallel-item:first-child::after {align-self: flex-end;width: 50%;}#sk-container-id-2 div.sk-parallel-item:last-child::after {align-self: flex-start;width: 50%;}#sk-container-id-2 div.sk-parallel-item:only-child::after {width: 0;}#sk-container-id-2 div.sk-dashed-wrapped {border: 1px dashed gray;margin: 0 0.4em 0.5em 0.4em;box-sizing: border-box;padding-bottom: 0.4em;background-color: white;}#sk-container-id-2 div.sk-label label {font-family: monospace;font-weight: bold;display: inline-block;line-height: 1.2em;}#sk-container-id-2 div.sk-label-container {text-align: center;}#sk-container-id-2 div.sk-container {/* jupyter's `normalize.less` sets `[hidden] { display: none; }` but bootstrap.min.css set `[hidden] { display: none !important; }` so we also need the `!important` here to be able to override the default hidden behavior on the sphinx rendered scikit-learn.org. See: https://github.com/scikit-learn/scikit-learn/issues/21755 */display: inline-block !important;position: relative;}#sk-container-id-2 div.sk-text-repr-fallback {display: none;}</style><div id=\"sk-container-id-2\" class=\"sk-top-container\"><div class=\"sk-text-repr-fallback\"><pre>LinearRegression()</pre><b>In a Jupyter environment, please rerun this cell to show the HTML representation or trust the notebook. <br />On GitHub, the HTML representation is unable to render, please try loading this page with nbviewer.org.</b></div><div class=\"sk-container\" hidden><div class=\"sk-item\"><div class=\"sk-estimator sk-toggleable\"><input class=\"sk-toggleable__control sk-hidden--visually\" id=\"sk-estimator-id-2\" type=\"checkbox\" checked><label for=\"sk-estimator-id-2\" class=\"sk-toggleable__label sk-toggleable__label-arrow\">LinearRegression</label><div class=\"sk-toggleable__content\"><pre>LinearRegression()</pre></div></div></div></div></div>"
      ],
      "text/plain": [
       "LinearRegression()"
      ]
     },
     "execution_count": 30,
     "metadata": {},
     "output_type": "execute_result"
    }
   ],
   "source": [
    "regression.fit(x,y)"
   ]
  },
  {
   "cell_type": "markdown",
   "metadata": {},
   "source": [
    "And we will obtain the coefficients and the intercept of the final model:"
   ]
  },
  {
   "cell_type": "code",
   "execution_count": 31,
   "metadata": {
    "scrolled": true
   },
   "outputs": [
    {
     "name": "stdout",
     "output_type": "stream",
     "text": [
      "Coefficients:  [-6.85059555e+04  6.74747118e+04  3.03272948e+02 -2.98332996e-01\n",
      "  5.39961084e+04 -3.36602818e+03]\n",
      "Intercept:  6555817.452519993\n"
     ]
    }
   ],
   "source": [
    "print ('Coefficients: ', regression.coef_)\n",
    "print('Intercept: ', regression.intercept_)"
   ]
  },
  {
   "cell_type": "markdown",
   "metadata": {},
   "source": [
    "Finally, we will see what coefficient corresponds to each variable:"
   ]
  },
  {
   "cell_type": "code",
   "execution_count": 32,
   "metadata": {
    "scrolled": true
   },
   "outputs": [
    {
     "data": {
      "text/plain": [
       "[('bedrooms', -68505.95551306363),\n",
       " ('bathrooms', 67474.71180657033),\n",
       " ('sqft_living', 303.2729475015112),\n",
       " ('sqft_lot', -0.29833299623714993),\n",
       " ('floors', 53996.108433078945),\n",
       " ('yr_built', -3366.0281753454983)]"
      ]
     },
     "execution_count": 32,
     "metadata": {},
     "output_type": "execute_result"
    }
   ],
   "source": [
    "list(zip(x.columns, regression.coef_))"
   ]
  },
  {
   "cell_type": "markdown",
   "metadata": {},
   "source": [
    "## Conclusion\n",
    "\n",
    "- In this example we have learned some of the basic steps in the machine learning life cycle. We also used Pandas to prepare our data set, so that we can train a linear regression model using scikit-learn. Additionally we use some numpy and scipy libraries. \n",
    "\n",
    "- We made predictions with the resulting model and calculate three performance metrics on the results. \n",
    "\n",
    "- As expected, we obtained an R² of 56%. This means there is room for improvement, and according the **[ML Lifecycle Diagram](#How-to-solve-a-linear-regression-problem)**  we might consider **Review the Process** by fine-tuning the regression model or reducing the dimensions or trying different combinations of variables or using another type of regression that fits the data better.\n",
    "\n"
   ]
  }
 ],
 "metadata": {
  "kernelspec": {
   "display_name": "Python 3 (ipykernel)",
   "language": "python",
   "name": "python3"
  },
  "language_info": {
   "codemirror_mode": {
    "name": "ipython",
    "version": 3
   },
   "file_extension": ".py",
   "mimetype": "text/x-python",
   "name": "python",
   "nbconvert_exporter": "python",
   "pygments_lexer": "ipython3",
   "version": "3.11.4"
  }
 },
 "nbformat": 4,
 "nbformat_minor": 2
}
